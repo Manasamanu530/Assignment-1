{
  "nbformat": 4,
  "nbformat_minor": 0,
  "metadata": {
    "colab": {
      "provenance": []
    },
    "kernelspec": {
      "name": "python3",
      "display_name": "Python 3"
    },
    "language_info": {
      "name": "python"
    }
  },
  "cells": [
    {
      "cell_type": "code",
      "execution_count": 9,
      "metadata": {
        "id": "jKuWzUdpqIfJ"
      },
      "outputs": [],
      "source": [
        "import numpy as np\n",
        "import pandas as pd\n",
        "import seaborn as sns"
      ]
    },
    {
      "cell_type": "code",
      "source": [
        "df=pd.read_csv(\"/content/transfusion (2).csv\")"
      ],
      "metadata": {
        "id": "8kd_EopBqobE"
      },
      "execution_count": 4,
      "outputs": []
    },
    {
      "cell_type": "code",
      "source": [
        "df.info()"
      ],
      "metadata": {
        "id": "TROcbZWBq4rT",
        "colab": {
          "base_uri": "https://localhost:8080/"
        },
        "outputId": "83f8f6d1-f426-43e1-8bc5-6b51ba5c0f11"
      },
      "execution_count": 5,
      "outputs": [
        {
          "output_type": "stream",
          "name": "stdout",
          "text": [
            "<class 'pandas.core.frame.DataFrame'>\n",
            "RangeIndex: 748 entries, 0 to 747\n",
            "Data columns (total 5 columns):\n",
            " #   Column                                      Non-Null Count  Dtype\n",
            "---  ------                                      --------------  -----\n",
            " 0   Recency (months)                            748 non-null    int64\n",
            " 1   Frequency (times)                           748 non-null    int64\n",
            " 2   Monetary (c.c. blood)                       748 non-null    int64\n",
            " 3   Time (months)                               748 non-null    int64\n",
            " 4   whether he/she donated blood in March 2007  748 non-null    int64\n",
            "dtypes: int64(5)\n",
            "memory usage: 29.3 KB\n"
          ]
        }
      ]
    },
    {
      "cell_type": "code",
      "source": [
        "df.shape"
      ],
      "metadata": {
        "colab": {
          "base_uri": "https://localhost:8080/"
        },
        "id": "d0ONJ42srtpQ",
        "outputId": "1d10172e-6b93-4d93-9f88-19cc2f4f89cd"
      },
      "execution_count": 6,
      "outputs": [
        {
          "output_type": "execute_result",
          "data": {
            "text/plain": [
              "(748, 5)"
            ]
          },
          "metadata": {},
          "execution_count": 6
        }
      ]
    },
    {
      "cell_type": "code",
      "source": [
        "df.isnull().sum()"
      ],
      "metadata": {
        "colab": {
          "base_uri": "https://localhost:8080/"
        },
        "id": "whpZIZD4rzjf",
        "outputId": "a3fa7dab-1c11-4bbb-b863-f960e8c90044"
      },
      "execution_count": 7,
      "outputs": [
        {
          "output_type": "execute_result",
          "data": {
            "text/plain": [
              "Recency (months)                              0\n",
              "Frequency (times)                             0\n",
              "Monetary (c.c. blood)                         0\n",
              "Time (months)                                 0\n",
              "whether he/she donated blood in March 2007    0\n",
              "dtype: int64"
            ]
          },
          "metadata": {},
          "execution_count": 7
        }
      ]
    },
    {
      "cell_type": "code",
      "source": [
        "sns.boxplot(df)"
      ],
      "metadata": {
        "colab": {
          "base_uri": "https://localhost:8080/",
          "height": 443
        },
        "id": "bRd3OFctr8rN",
        "outputId": "2eadc775-e694-410e-db35-cde5a476b306"
      },
      "execution_count": 10,
      "outputs": [
        {
          "output_type": "execute_result",
          "data": {
            "text/plain": [
              "<Axes: >"
            ]
          },
          "metadata": {},
          "execution_count": 10
        },
        {
          "output_type": "display_data",
          "data": {
            "text/plain": [
              "<Figure size 640x480 with 1 Axes>"
            ],
            "image/png": "[encoded data removed]"
          },
          "metadata": {}
        }
      ]
    },
    {
      "cell_type": "code",
      "source": [
        "print(df.columns)"
      ],
      "metadata": {
        "colab": {
          "base_uri": "https://localhost:8080/"
        },
        "id": "BQHeRTlMuuLp",
        "outputId": "ce795f75-cc7c-4820-cd8e-a58b394a7ebe"
      },
      "execution_count": 15,
      "outputs": [
        {
          "output_type": "stream",
          "name": "stdout",
          "text": [
            "Index(['Recency (months)', 'Frequency (times)', 'Monetary (c.c. blood)',\n",
            "       'Time (months)', 'whether he/she donated blood in March 2007'],\n",
            "      dtype='object')\n"
          ]
        }
      ]
    },
    {
      "cell_type": "code",
      "source": [
        "Q1=df['Monetary (c.c. blood)'].quantile(0.25)\n",
        "Q3=df['Monetary (c.c. blood)'].quantile(0.75)\n",
        "IQR=Q3-Q1\n",
        "lower_bound=Q1-(1.5*IQR)\n",
        "upper_bound=Q3+(1.5*IQR)\n",
        "df=df[(df['Monetary (c.c. blood)']>=lower_bound) & (df['Monetary (c.c. blood)']<=upper_bound)]"
      ],
      "metadata": {
        "id": "Mlmlug9yts-y"
      },
      "execution_count": 22,
      "outputs": []
    },
    {
      "cell_type": "code",
      "source": [
        "\n",
        "print(\"Chance of donation where donor is having low recency:\", df[df[\"Recency (months)\"]<3]['whether he/she donated blood in March 2007'].mean())\n",
        "\n",
        "print(\"Chance of donation where donor is having high recency:\", df [df[\"Recency (months)\"]>14] ['whether he/she donated blood in March 2007'].mean())\n",
        "\n",
        "print(\"....................................\")\n",
        "\n",
        "print(\"Chance of donation where donor is having low Frequency:\", df [df [\"Frequency (times)\"]<2]['whether he/she donated blood in March 2007'].mean())\n",
        "\n",
        "print(\"Chance of donation where donor is having high Frequency:\", df [df[\"Frequency (times)\"]>6] ['whether he/she donated blood in March 2007'].mean())\n",
        "print(\"..............................\")\n",
        "print(\"Chance of donation where donor is having low Monetary:\", df [df[\"Monetary (c.c. blood)\"]<500] ['whether he/she donated blood in March 2007'].mean())\n",
        "print(\"Chance of donation where donor is having high Monetary:\", df [df[\"Monetary (c.c. blood)\"]>1500]['whether he/she donated blood in March 2007'].mean())\n",
        "\n",
        "print(\". ..\")\n",
        "print(\"Chance of donation where donor is having low Time:\",df[df[\"Time (months)\"]<14] ['whether he/she donated blood in March 2007'].mean())\n",
        "\n",
        "print(\"Chance of donation where donor is having high Time:\" ,df [df[\"Time (months)\"]>46]['whether he/she donated blood in March 2007'].mean())"
      ],
      "metadata": {
        "colab": {
          "base_uri": "https://localhost:8080/"
        },
        "id": "PDqVb166v6Nt",
        "outputId": "c12d3bfa-82cb-4f02-eea6-86fef04de569"
      },
      "execution_count": 34,
      "outputs": [
        {
          "output_type": "stream",
          "name": "stdout",
          "text": [
            "Chance of donation where donor is having low recency: 0.35260115606936415\n",
            "Chance of donation where donor is having high recency: 0.07228915662650602\n",
            "....................................\n",
            "Chance of donation where donor is having low Frequency: 0.12658227848101267\n",
            "Chance of donation where donor is having high Frequency: 0.3235294117647059\n",
            "..............................\n",
            "Chance of donation where donor is having low Monetary: 0.12658227848101267\n",
            "Chance of donation where donor is having high Monetary: 0.3235294117647059\n",
            ". ..\n",
            "Chance of donation where donor is having low Time: 0.26666666666666666\n",
            "Chance of donation where donor is having high Time: 0.1566265060240964\n"
          ]
        }
      ]
    },
    {
      "cell_type": "code",
      "source": [],
      "metadata": {
        "id": "oBSSlSStxG4s"
      },
      "execution_count": null,
      "outputs": []
    }
  ]
}